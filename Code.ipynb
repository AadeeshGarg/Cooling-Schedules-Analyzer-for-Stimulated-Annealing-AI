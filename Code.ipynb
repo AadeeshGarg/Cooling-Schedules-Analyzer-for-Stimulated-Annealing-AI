{
 "cells": [
  {
   "cell_type": "code",
   "execution_count": 69,
   "metadata": {},
   "outputs": [],
   "source": [
    "from random import randint, uniform\n",
    "from time import time\n",
    "from math import *\n",
    "from numpy import arange\n",
    "from scipy.optimize import curve_fit\n",
    "from matplotlib import pyplot"
   ]
  },
  {
   "cell_type": "code",
   "execution_count": 158,
   "metadata": {},
   "outputs": [],
   "source": [
    "def objective(z, a, b, c, d):\n",
    "\treturn a * z + b * z**2 + c*z**3 + d\n",
    "\n",
    "def plotter(x,y,k):\n",
    "    # curve fit\n",
    "    popt, _ = curve_fit(objective, x, y)\n",
    "    # summarize the parameter values\n",
    "    a, b, c = popt\n",
    "    print('y = %.5f * x + %.5f * x^2 + %.5f * x^3 + %.5f' % (a, b, c, d))\n",
    "    # plot input vs output\n",
    "    pyplot.scatter(x, y)\n",
    "    # define a sequence of inputs between the smallest and largest known inputs\n",
    "    x_line = arange(min(x), max(x)+1, 1)\n",
    "    # calculate the output for the range\n",
    "    y_line = objective(x_line, a, b, c, d)\n",
    "    # create a line plot for the mapping function\n",
    "    pyplot.plot(x_line, y_line,'-', color=k)\n",
    "    pyplot.show()"
   ]
  },
  {
   "cell_type": "code",
   "execution_count": 119,
   "metadata": {},
   "outputs": [],
   "source": [
    "def absorandom2d(low, high,length):\n",
    "    return [randint(low,high) for i in range(length)]\n",
    "\n",
    "def absorandom3d(low,high,length,breadth):\n",
    "    return [[randint(low,high) for i in range(length)] for j in range(breadth)]\n",
    "\n",
    "def gen_row(breadth,arr, variance):\n",
    "    for i in range(1,breadth):\n",
    "        arr.append(arr[i-1]+randint(-variance,variance))\n",
    "    return arr\n",
    "\n",
    "def lessrandom3d(length, breadth):\n",
    "    arr=gen_row(breadth,[0],4)\n",
    "    for i in range(breadth):                        #mostly suited to smaller arrays... 500x500?\n",
    "        arr[i]=gen_row(length,[arr[i]],1)\n",
    "    return arr\n",
    "\n",
    "\n",
    "def lessrandom3d_ver2(length,breadth, variance):\n",
    "    arr=[gen_row(breadth,[0],variance)]\n",
    "    for i in range(1,length):\n",
    "        arr2=[]\n",
    "        for j in range(breadth):\n",
    "            arr2.append(arr[i-1][j]+randint(-variance*5//8,variance))\n",
    "            if (arr2[j]-arr2[j-1]>variance) or (arr2[j-1]-arr2[j]>variance):\n",
    "                arr2[j]=(arr2[j-1]+arr[i-1][j])//2\n",
    "        arr.append(arr2)\n",
    "    return arr\n",
    "\n",
    "def pretty_print_1(arr):\n",
    "    for i in range(len(arr)):\n",
    "        for j in range(len(arr[0])):\n",
    "            print(\"{:>3}\".format(arr[i][j]), end='')\n",
    "        print()\n",
    "\n",
    "def pretty_print_2(arr):\n",
    "    for i in range(1000):\n",
    "        for j in range(132):\n",
    "            if arr[i][j]<-15:\n",
    "                print(\" \", end='')\n",
    "            elif arr[i][j]<-5:\n",
    "                print(\"-\", end='')\n",
    "            elif arr[i][j]<5:\n",
    "                print(\"=\", end='')\n",
    "            elif arr[i][j]<15:\n",
    "                print(\"&\", end='')\n",
    "            else:\n",
    "                print(\"@\", end='')\n",
    "        print()"
   ]
  },
  {
   "cell_type": "code",
   "execution_count": 120,
   "metadata": {},
   "outputs": [],
   "source": [
    "def hill_climbing_1D(arr,i):\n",
    "    while True:\n",
    "        current = arr[i]\n",
    "        neighbor = [arr[max(0,i-1)],arr[min(len(arr)-1,i+1)]]\n",
    "        indices = [max(0,i-1),min(len(arr)-1,i+1)]\n",
    "        if max(neighbor) <= current:\n",
    "            return (current,i)\n",
    "        i = indices[neighbor.index(max(neighbor))]"
   ]
  },
  {
   "cell_type": "code",
   "execution_count": 121,
   "metadata": {},
   "outputs": [],
   "source": [
    "def hill_climbing_2D(arr,i,j):\n",
    "    m = len(arr)\n",
    "    n = len(arr[0])\n",
    "    while True:\n",
    "        current = arr[i][j]\n",
    "        neighbor = [arr[max(0,i-1)][j],arr[min(m-1,i+1)][j],arr[i][max(0,j-1)],arr[i][min(n-1,j+1)],arr[max(0,i-1)][max(0,j-1)],arr[max(0,i-1)][min(n-1,j+1)],arr[min(m-1,i+1)][max(0,j-1)],arr[min(m-1,i+1)][min(n-1,j+1)]]\n",
    "        indices = [[max(0,i-1),j],[min(m-1,i+1),j],[i,max(0,j-1)],[i,min(n-1,j+1)],[max(0,i-1),max(0,j-1)],[max(0,i-1),min(n-1,j+1)],[min(m-1,i+1),max(0,j-1)],[min(m-1,i+1),min(n-1,j+1)]]\n",
    "        if max(neighbor) <= current:\n",
    "            return (current,i,j)\n",
    "        i = indices[neighbor.index(max(neighbor))][0]\n",
    "        j = indices[neighbor.index(max(neighbor))][1]"
   ]
  },
  {
   "cell_type": "code",
   "execution_count": 122,
   "metadata": {},
   "outputs": [],
   "source": [
    "def simulated_annealing_1D(arr,i,time_limit,T):\n",
    "    current = arr[i]\n",
    "    m = len(arr)\n",
    "    \n",
    "    start_time = time()\n",
    "    while (time() - start_time < time_limit):\n",
    "        t = time_limit -time() + start_time\n",
    "        x = randint(0,1)\n",
    "        indices = [min(m-1,i+1),max(i-1,0)]\n",
    "        neighbour = arr[indices[x]]\n",
    "        E = neighbour - current\n",
    "        #print(neighbour,indices[x])\n",
    "        if E>=0:\n",
    "            current = neighbour\n",
    "            i = indices[x]\n",
    "        elif t > 0 :\n",
    "            z = uniform(0,1)\n",
    "            if  z <= exp(E/T(t)):\n",
    "                current = neighbour\n",
    "                i= indices[x]\n",
    "    return [current,time_limit,max(arr)-current]"
   ]
  },
  {
   "cell_type": "code",
   "execution_count": 123,
   "metadata": {},
   "outputs": [],
   "source": [
    "def simulated_annealing_2D(arr,i,j, time_limit, T):\n",
    "    current = arr[i][j]\n",
    "    m = len(arr)\n",
    "    n = len(arr[0])\n",
    "    \n",
    "    ilist = []\n",
    "    for x in arr:\n",
    "        ilist.append(max(x))\n",
    "    \n",
    "    start_time = time()\n",
    "    while (time() - start_time < time_limit):\n",
    "        t = time_limit - time() + start_time\n",
    "        x = randint(0,7)\n",
    "        indices = [[max(0,i-1),j],[min(m-1,i+1),j],[i,max(0,j-1)],[i,min(n-1,j+1)],[max(0,i-1),max(0,j-1)],[max(0,i-1),min(n-1,j+1)],[min(m-1,i+1),max(0,j-1)],[min(m-1,i+1),min(n-1,j+1)]]\n",
    "        neighbour = arr[indices[x][0]][indices[x][1]]\n",
    "        E = neighbour - current\n",
    "        #print(neighbour,indices[x])\n",
    "        if E>=0:\n",
    "            current = neighbour\n",
    "            [i,j]= indices[x]\n",
    "        else :\n",
    "            z = uniform(0,1)\n",
    "            if  t!=0 and z <= exp(E/t) :\n",
    "                current = neighbour\n",
    "                [i,j]= indices[x]\n",
    "    \n",
    "    return [time_limit,max(ilist)-current]"
   ]
  },
  {
   "cell_type": "code",
   "execution_count": 188,
   "metadata": {},
   "outputs": [],
   "source": [
    "def data2D_prob(sz):\n",
    "    tl = 0 \n",
    "    lit=[]\n",
    "    for _ in range(25):\n",
    "        tl+=0.2\n",
    "        cnt = 0\n",
    "        for lol in range(25):\n",
    "            try:\n",
    "                [x,y] = simulated_annealing_2D(lessrandom3d_ver2(sz,sz,2),randint(0,sz-1),randint(0,sz-1),tl,1)\n",
    "            except OverflowError:\n",
    "                ans = float('inf')\n",
    "                \n",
    "            if y==0:\n",
    "                cnt = cnt + 1\n",
    "        lit.append([tl,cnt*0.04])\n",
    "        \n",
    "    x = []\n",
    "    k = []\n",
    "    for _ in range(20):\n",
    "        x.append(lit[_][0])\n",
    "        k.append(lit[_][1])\n",
    "    plotter(x,k,\"red\")"
   ]
  },
  {
   "cell_type": "code",
   "execution_count": null,
   "metadata": {},
   "outputs": [],
   "source": [
    "data2D_prob(200)"
   ]
  },
  {
   "cell_type": "code",
   "execution_count": null,
   "metadata": {},
   "outputs": [],
   "source": [
    "def data2D_err(sz):\n",
    "    o = 1\n",
    "    lit=[]\n",
    "    for _ in range(10):\n",
    "        o = o+0.2\n",
    "        cnt = 0\n",
    "        for lol in range(5):\n",
    "            x,y = simulated_annealing_2D(lessrandom3d_ver2(sz,sz,1),sz//2,sz//2,o,1)\n",
    "            if y!=0:\n",
    "                cnt = cnt + 1\n",
    "        lit.append([o,cnt*20])\n",
    "    x = []\n",
    "    y = []\n",
    "    for _ in range(10):\n",
    "        x.append(lit[_][0])\n",
    "        y.append(lit[_][1])\n",
    "    plotter(x,y,\"red\")"
   ]
  },
  {
   "cell_type": "code",
   "execution_count": 181,
   "metadata": {},
   "outputs": [
    {
     "name": "stdout",
     "output_type": "stream",
     "text": [
      "2\n"
     ]
    }
   ],
   "source": [
    "print(x)"
   ]
  },
  {
   "cell_type": "code",
   "execution_count": null,
   "metadata": {},
   "outputs": [],
   "source": []
  }
 ],
 "metadata": {
  "kernelspec": {
   "display_name": "Python 3",
   "language": "python",
   "name": "python3"
  },
  "language_info": {
   "codemirror_mode": {
    "name": "ipython",
    "version": 3
   },
   "file_extension": ".py",
   "mimetype": "text/x-python",
   "name": "python",
   "nbconvert_exporter": "python",
   "pygments_lexer": "ipython3",
   "version": "3.8.3"
  }
 },
 "nbformat": 4,
 "nbformat_minor": 4
}
